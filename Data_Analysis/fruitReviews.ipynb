{
 "cells": [
  {
   "cell_type": "code",
   "execution_count": 13,
   "metadata": {},
   "outputs": [],
   "source": [
    "from selenium import webdriver\n",
    "from selenium.webdriver.common.by import By\n",
    "\n",
    "import time\n",
    "import pandas as pd\n",
    "import os"
   ]
  },
  {
   "cell_type": "code",
   "execution_count": 14,
   "metadata": {},
   "outputs": [
    {
     "name": "stderr",
     "output_type": "stream",
     "text": [
      "C:\\Users\\LG\\AppData\\Local\\Temp\\ipykernel_27924\\594694961.py:1: DeprecationWarning: executable_path has been deprecated, please pass in a Service object\n",
      "  driver=webdriver.Chrome(\"chromedriver.exe\")\n"
     ]
    }
   ],
   "source": [
    "driver=webdriver.Chrome(\"chromedriver.exe\")\n",
    "\n",
    "driver.implicitly_wait(3)"
   ]
  },
  {
   "attachments": {},
   "cell_type": "markdown",
   "metadata": {},
   "source": [
    "1. 상품들 페이지 열기"
   ]
  },
  {
   "cell_type": "code",
   "execution_count": 15,
   "metadata": {},
   "outputs": [],
   "source": [
    "site = \"https://www.coupang.com/np/categories/420186\"\n",
    "driver.get(site)\n",
    "time.sleep(1)"
   ]
  },
  {
   "attachments": {},
   "cell_type": "markdown",
   "metadata": {},
   "source": [
    "2. 상품 페이지의 리스트 부분을 FruitList에 넣기"
   ]
  },
  {
   "cell_type": "code",
   "execution_count": 16,
   "metadata": {},
   "outputs": [],
   "source": [
    "FruitList = driver.find_element(By.ID, 'productList')"
   ]
  },
  {
   "attachments": {},
   "cell_type": "markdown",
   "metadata": {},
   "source": [
    "예시 코드"
   ]
  },
  {
   "cell_type": "code",
   "execution_count": 17,
   "metadata": {},
   "outputs": [
    {
     "data": {
      "text/plain": [
       "'https://www.coupang.com/vp/products/4650530853?itemId=5797807689&vendorItemId=73096293638&sourceType=CATEGORY&categoryId=420086'"
      ]
     },
     "execution_count": 17,
     "metadata": {},
     "output_type": "execute_result"
    }
   ],
   "source": [
    "FruitList.find_element(By.XPATH, './li['+'1'+']').find_element(By.CLASS_NAME,'baby-product-link').get_attribute(\"href\")"
   ]
  },
  {
   "attachments": {},
   "cell_type": "markdown",
   "metadata": {},
   "source": [
    "./로 전체 XPATH를 입력하지 않고 FruitList의 XPATH에 이어서 붙인 XPATH를 사용할 수 있다"
   ]
  },
  {
   "attachments": {},
   "cell_type": "markdown",
   "metadata": {},
   "source": [
    "한 페이지 내의 주소들을 다 긁어오는 코드"
   ]
  },
  {
   "cell_type": "code",
   "execution_count": 18,
   "metadata": {},
   "outputs": [],
   "source": [
    "i = 1\n",
    "links = []\n",
    "while True:\n",
    "    try:\n",
    "        temp = FruitList.find_element(By.XPATH, './li['+str(i)+']')\n",
    "        link = temp.find_element(By.CLASS_NAME,'baby-product-link').get_attribute(\"href\")\n",
    "        links.append(link)\n",
    "        i+=1\n",
    "    except:\n",
    "        break"
   ]
  },
  {
   "cell_type": "code",
   "execution_count": 19,
   "metadata": {},
   "outputs": [
    {
     "data": {
      "text/plain": [
       "60"
      ]
     },
     "execution_count": 19,
     "metadata": {},
     "output_type": "execute_result"
    }
   ],
   "source": [
    "# 총 저장된 링크 수\n",
    "len(links)"
   ]
  },
  {
   "cell_type": "code",
   "execution_count": 20,
   "metadata": {},
   "outputs": [
    {
     "data": {
      "text/plain": [
       "'https://www.coupang.com/vp/products/1868163598?itemId=3175254926&vendorItemId=71162753297&sourceType=CATEGORY&categoryId=420086'"
      ]
     },
     "execution_count": 20,
     "metadata": {},
     "output_type": "execute_result"
    }
   ],
   "source": [
    "# 마지막에 저장된 링크를 확인\n",
    "links[-1]"
   ]
  },
  {
   "attachments": {},
   "cell_type": "markdown",
   "metadata": {},
   "source": [
    "2. 저장한 상품 페이지 링크들을 하나씩 들어가면서 링크 가져오기"
   ]
  },
  {
   "attachments": {},
   "cell_type": "markdown",
   "metadata": {},
   "source": [
    "마지막에 저장된 링크를 예시로 진행"
   ]
  },
  {
   "cell_type": "code",
   "execution_count": 21,
   "metadata": {},
   "outputs": [],
   "source": [
    "driver.get(links[-1])"
   ]
  },
  {
   "attachments": {},
   "cell_type": "markdown",
   "metadata": {},
   "source": [
    "리뷰 버튼 클릭"
   ]
  },
  {
   "cell_type": "code",
   "execution_count": 22,
   "metadata": {},
   "outputs": [
    {
     "ename": "NoSuchElementException",
     "evalue": "Message: no such element: Unable to locate element: {\"method\":\"css selector\",\"selector\":\"[name=\"sbp-review\"]\"}\n  (Session info: chrome=112.0.5615.138)\nStacktrace:\nBacktrace:\n\tGetHandleVerifier [0x0045DCE3+50899]\n\t(No symbol) [0x003EE111]\n\t(No symbol) [0x002F5588]\n\t(No symbol) [0x003208F9]\n\t(No symbol) [0x00320AFB]\n\t(No symbol) [0x0034F902]\n\t(No symbol) [0x0033B944]\n\t(No symbol) [0x0034E01C]\n\t(No symbol) [0x0033B6F6]\n\t(No symbol) [0x00317708]\n\t(No symbol) [0x0031886D]\n\tGetHandleVerifier [0x006C3EAE+2566302]\n\tGetHandleVerifier [0x006F92B1+2784417]\n\tGetHandleVerifier [0x006F327C+2759788]\n\tGetHandleVerifier [0x004F5740+672048]\n\t(No symbol) [0x003F8872]\n\t(No symbol) [0x003F41C8]\n\t(No symbol) [0x003F42AB]\n\t(No symbol) [0x003E71B7]\n\tBaseThreadInitThunk [0x767B7D49+25]\n\tRtlInitializeExceptionChain [0x7765B74B+107]\n\tRtlClearBits [0x7765B6CF+191]\n",
     "output_type": "error",
     "traceback": [
      "\u001b[1;31m---------------------------------------------------------------------------\u001b[0m",
      "\u001b[1;31mNoSuchElementException\u001b[0m                    Traceback (most recent call last)",
      "Cell \u001b[1;32mIn[22], line 1\u001b[0m\n\u001b[1;32m----> 1\u001b[0m driver\u001b[39m.\u001b[39;49mfind_element(By\u001b[39m.\u001b[39;49mNAME, \u001b[39m'\u001b[39;49m\u001b[39msbp-review\u001b[39;49m\u001b[39m'\u001b[39;49m)\u001b[39m.\u001b[39mclick()\n\u001b[0;32m      2\u001b[0m time\u001b[39m.\u001b[39msleep(\u001b[39m3\u001b[39m)\n",
      "File \u001b[1;32m~\\AppData\\Local\\Packages\\PythonSoftwareFoundation.Python.3.10_qbz5n2kfra8p0\\LocalCache\\local-packages\\Python310\\site-packages\\selenium\\webdriver\\remote\\webdriver.py:831\u001b[0m, in \u001b[0;36mWebDriver.find_element\u001b[1;34m(self, by, value)\u001b[0m\n\u001b[0;32m    828\u001b[0m     by \u001b[39m=\u001b[39m By\u001b[39m.\u001b[39mCSS_SELECTOR\n\u001b[0;32m    829\u001b[0m     value \u001b[39m=\u001b[39m \u001b[39mf\u001b[39m\u001b[39m'\u001b[39m\u001b[39m[name=\u001b[39m\u001b[39m\"\u001b[39m\u001b[39m{\u001b[39;00mvalue\u001b[39m}\u001b[39;00m\u001b[39m\"\u001b[39m\u001b[39m]\u001b[39m\u001b[39m'\u001b[39m\n\u001b[1;32m--> 831\u001b[0m \u001b[39mreturn\u001b[39;00m \u001b[39mself\u001b[39;49m\u001b[39m.\u001b[39;49mexecute(Command\u001b[39m.\u001b[39;49mFIND_ELEMENT, {\u001b[39m\"\u001b[39;49m\u001b[39musing\u001b[39;49m\u001b[39m\"\u001b[39;49m: by, \u001b[39m\"\u001b[39;49m\u001b[39mvalue\u001b[39;49m\u001b[39m\"\u001b[39;49m: value})[\u001b[39m\"\u001b[39m\u001b[39mvalue\u001b[39m\u001b[39m\"\u001b[39m]\n",
      "File \u001b[1;32m~\\AppData\\Local\\Packages\\PythonSoftwareFoundation.Python.3.10_qbz5n2kfra8p0\\LocalCache\\local-packages\\Python310\\site-packages\\selenium\\webdriver\\remote\\webdriver.py:440\u001b[0m, in \u001b[0;36mWebDriver.execute\u001b[1;34m(self, driver_command, params)\u001b[0m\n\u001b[0;32m    438\u001b[0m response \u001b[39m=\u001b[39m \u001b[39mself\u001b[39m\u001b[39m.\u001b[39mcommand_executor\u001b[39m.\u001b[39mexecute(driver_command, params)\n\u001b[0;32m    439\u001b[0m \u001b[39mif\u001b[39;00m response:\n\u001b[1;32m--> 440\u001b[0m     \u001b[39mself\u001b[39;49m\u001b[39m.\u001b[39;49merror_handler\u001b[39m.\u001b[39;49mcheck_response(response)\n\u001b[0;32m    441\u001b[0m     response[\u001b[39m\"\u001b[39m\u001b[39mvalue\u001b[39m\u001b[39m\"\u001b[39m] \u001b[39m=\u001b[39m \u001b[39mself\u001b[39m\u001b[39m.\u001b[39m_unwrap_value(response\u001b[39m.\u001b[39mget(\u001b[39m\"\u001b[39m\u001b[39mvalue\u001b[39m\u001b[39m\"\u001b[39m, \u001b[39mNone\u001b[39;00m))\n\u001b[0;32m    442\u001b[0m     \u001b[39mreturn\u001b[39;00m response\n",
      "File \u001b[1;32m~\\AppData\\Local\\Packages\\PythonSoftwareFoundation.Python.3.10_qbz5n2kfra8p0\\LocalCache\\local-packages\\Python310\\site-packages\\selenium\\webdriver\\remote\\errorhandler.py:245\u001b[0m, in \u001b[0;36mErrorHandler.check_response\u001b[1;34m(self, response)\u001b[0m\n\u001b[0;32m    243\u001b[0m         alert_text \u001b[39m=\u001b[39m value[\u001b[39m\"\u001b[39m\u001b[39malert\u001b[39m\u001b[39m\"\u001b[39m]\u001b[39m.\u001b[39mget(\u001b[39m\"\u001b[39m\u001b[39mtext\u001b[39m\u001b[39m\"\u001b[39m)\n\u001b[0;32m    244\u001b[0m     \u001b[39mraise\u001b[39;00m exception_class(message, screen, stacktrace, alert_text)  \u001b[39m# type: ignore[call-arg]  # mypy is not smart enough here\u001b[39;00m\n\u001b[1;32m--> 245\u001b[0m \u001b[39mraise\u001b[39;00m exception_class(message, screen, stacktrace)\n",
      "\u001b[1;31mNoSuchElementException\u001b[0m: Message: no such element: Unable to locate element: {\"method\":\"css selector\",\"selector\":\"[name=\"sbp-review\"]\"}\n  (Session info: chrome=112.0.5615.138)\nStacktrace:\nBacktrace:\n\tGetHandleVerifier [0x0045DCE3+50899]\n\t(No symbol) [0x003EE111]\n\t(No symbol) [0x002F5588]\n\t(No symbol) [0x003208F9]\n\t(No symbol) [0x00320AFB]\n\t(No symbol) [0x0034F902]\n\t(No symbol) [0x0033B944]\n\t(No symbol) [0x0034E01C]\n\t(No symbol) [0x0033B6F6]\n\t(No symbol) [0x00317708]\n\t(No symbol) [0x0031886D]\n\tGetHandleVerifier [0x006C3EAE+2566302]\n\tGetHandleVerifier [0x006F92B1+2784417]\n\tGetHandleVerifier [0x006F327C+2759788]\n\tGetHandleVerifier [0x004F5740+672048]\n\t(No symbol) [0x003F8872]\n\t(No symbol) [0x003F41C8]\n\t(No symbol) [0x003F42AB]\n\t(No symbol) [0x003E71B7]\n\tBaseThreadInitThunk [0x767B7D49+25]\n\tRtlInitializeExceptionChain [0x7765B74B+107]\n\tRtlClearBits [0x7765B6CF+191]\n"
     ]
    }
   ],
   "source": [
    "driver.find_element(By.NAME, 'sdp-review').click()\n",
    "time.sleep(3)"
   ]
  },
  {
   "cell_type": "code",
   "execution_count": null,
   "metadata": {},
   "outputs": [],
   "source": [
    "review = driver.find_element(By.CLASS_NAME, \"js_reviewArticleListContainer\")"
   ]
  },
  {
   "cell_type": "code",
   "execution_count": null,
   "metadata": {},
   "outputs": [],
   "source": [
    "i=0 # i는 현재까지 저장된 리뷰의 수를 의미\n",
    "j=0 # j는 보여지는 리뷰들의 순서와 관련\n",
    "data = []\n",
    "while True:\n",
    "    i += 1\n",
    "    j += 1\n",
    "    try:    # 리뷰 평점 저장\n",
    "        data.append(review.find_element(By.XPATH, \"./article[\"+str(j)+\"]/div[1]/div[3]/div[1]/div\").get_attribute(\"data-rating\"))\n",
    "    except: # 보여지는 리뷰들을 다 불러와서 그 이후의 리뷰가 없어 에러가 나면 실행 - 다음 리뷰들을 띄운다\n",
    "        j = 0\n",
    "        page = driver.find_element(By.XPATH, \"/html/body/div[2]/section/div[2]/div[7]/ul[2]/li[3]/div/div[6]/section[4]/div[3]\")\n",
    "        p = int(page.get_attribute(\"data-page\"))%10+2\n",
    "        page.find_element(By.XPATH, \"./button[\"+str(p)+\"]\").click()\n",
    "        time.sleep(3)\n",
    "    if i >= 10:\n",
    "        break"
   ]
  },
  {
   "attachments": {},
   "cell_type": "markdown",
   "metadata": {},
   "source": [
    "이제 저장된 사이트 링크 모두를 대상으로 실행해보기"
   ]
  },
  {
   "cell_type": "code",
   "execution_count": null,
   "metadata": {},
   "outputs": [
    {
     "name": "stdout",
     "output_type": "stream",
     "text": [
      "곰곰 국내산 딸기 저장 완료\n",
      "돌 바나나 저장 완료\n",
      "성주벽진농협 당도선별 미니참외 저장 완료\n",
      "산지직송 수토마켓 당도선별 수박 저장 완료\n",
      "곰곰 국내산 블루베리(대) 저장 완료\n",
      "스윗토 스테비아 대추방울토마토 저장 완료\n",
      "프레쉬팜 골드 파인애플 스틱 저장 완료\n",
      "스위티오 Dole 바나나 저장 완료\n",
      "퓨어스펙 고당도 오렌지 저장 완료\n",
      "만나 프레시 믹스 파인 포도 방울 150g x 3p + 사과 포도 방울 150g x 3p 저장 완료\n",
      "곰곰 당도선별 수박 (함안) 저장 완료\n",
      "델몬트 골드파인 저장 완료\n",
      "산지직송 푸드베이스 산딸기 저장 완료\n",
      "스테비아 스윗토 대추방울토마토 저장 완료\n",
      "충남세도 GAP 인증 대추방울토마토 저장 완료\n",
      "제스프리 썬골드 키위 저장 완료\n",
      "썬키스트 고당도 오렌지 중대과 저장 완료\n",
      "Dole 스위티오 바나나 저장 완료\n",
      "곰곰 당도선별 성주참외 저장 완료\n",
      "제스프리 왕점보 썬골드키위 저장 완료\n",
      "새벽경매 시원달콤한 수박 저장 완료\n",
      "제스프리 썬골드 키위 저장 완료\n",
      "곰곰 농협 영주 당도선별 세척사과 저장 완료\n",
      "프레샤인 GAP 인증 충주 못난이사과 저장 완료\n",
      "곰곰 안동 시나노 골드사과 저장 완료\n",
      "제스프리 썬골드 키위 저장 완료\n",
      "달콤한농부 스테비아 스타마토 저장 완료\n",
      "수플린 태국산 망고스틴 5~6입 저장 완료\n",
      "델몬트 허니글로우 파인스틱 6입 저장 완료\n",
      "퓨어스펙 고당도 오렌지 중대과 저장 완료\n",
      "파인토 스테비아 방울토마토 저장 완료\n",
      "농협 당도선별 수박 저장 완료\n",
      "만나다 미국 고당도 오렌지 저장 완료\n",
      "GAP 완숙토마토 저장 완료\n",
      "성주월항농협 당도선별 참외 저장 완료\n",
      "곰곰 GAP 당도선별 제주 카라향 저장 완료\n",
      "산지직송 수토마켓 당도선별 수박 저장 완료\n",
      "곰곰 달콤한 스테비아 대추방울토마토 저장 완료\n",
      "딜리조이 시나노 골드 못난이 사과 저장 완료\n",
      "호재준 유기가공식품 인증 블루베리 (냉동) 저장 완료\n",
      "가족 고당도 시나노골드 사과 저장 완료\n",
      "제스프리 점보 썬골드키위 저장 완료\n",
      "한반도 당도선별 수박 저장 완료\n",
      "성주벽진농협 당도선별 미니참외 저장 완료\n",
      "GAP 당도선별 성주참외 저장 완료\n",
      "엠팍 고당도 네이블 오렌지 중대과 저장 완료\n",
      "GAP 대추방울토마토 저장 완료\n",
      "한반도 당도선별 수박 저장 완료\n",
      "산지직송 푸드베이스 산딸기 저장 완료\n",
      "곰곰 x 농협 성주 실속 미니참외 저장 완료\n",
      "스위프리 방울토마토 사과향 저장 완료\n",
      "성주월항농협 당도선별 미니참외 저장 완료\n",
      "제스프리 썬골드 키위 저장 완료\n",
      "망고 (냉동) 저장 완료\n",
      "제스프리 썬골드키위 저장 완료\n",
      "PSK 칠레 씨없는 적포도 저장 완료\n",
      "GAP 인증 해풍맞은 올레길 당도선별 하우스감귤 저장 완료\n",
      "산지직송 수토마켓 당도선별 수박 저장 완료\n",
      "한반도 당도선별 흑미수박 저장 완료\n",
      "썬키스트 고당도 오렌지 중대과 저장 완료\n"
     ]
    }
   ],
   "source": [
    "for i in links:\n",
    "    driver.get(i)\n",
    "    time.sleep(2)   # 페이지 이동 시에 완전히 로딩되지 않았음에도 되는 경우 방지용 3초 대기\n",
    "    \n",
    "    title = driver.find_element(By.CLASS_NAME, \"prod-buy-header__title\").text # 상품명 저장\n",
    "    \n",
    "    driver.find_element(By.NAME, 'review').click()\n",
    "    time.sleep(2)\n",
    "    review = driver.find_element(By.CLASS_NAME, \"js_reviewArticleListContainer\")\n",
    "\n",
    "    i=0 # i는 현재까지 저장된 리뷰의 수를 의미\n",
    "    j=0 # j는 보여지는 리뷰들의 순서와 관련\n",
    "    score = []\n",
    "\n",
    "    while True:\n",
    "        i += 1\n",
    "        j += 1\n",
    "        try:    # 리뷰 평점 저장\n",
    "            score.append(review.find_element(By.XPATH, \"./article[\"+str(j)+\"]/div[1]/div[3]/div[1]/div\").get_attribute(\"data-rating\"))\n",
    "        except: # 보여지는 리뷰들을 다 불러와서 그 이후의 리뷰가 없어 에러가 나면 실행 - 다음 리뷰들을 띄운다\n",
    "            j = 0\n",
    "            try:\n",
    "                page = driver.find_element(By.XPATH, \"/html/body/div[2]/section/div[2]/div[7]/ul[2]/li[3]/div/div[6]/section[4]/div[3]\")\n",
    "                p = int(page.get_attribute(\"data-page\"))%10+2\n",
    "                page.find_element(By.XPATH, \"./button[\"+str(p)+\"]\").click()\n",
    "                time.sleep(1)\n",
    "            except:\n",
    "                break        \n",
    "        if i >= 10:\n",
    "            break\n",
    "        \n",
    "    dic = {\"review-score\": score}\n",
    "    df = pd.DataFrame(dic)\n",
    "    df.to_csv(os.getcwd()+\"\\\\\"+title+'.csv', index=False, encoding='utf-8-sig')\n",
    "    print(title+\" 저장 완료\")\n",
    "    "
   ]
  },
  {
   "cell_type": "code",
   "execution_count": null,
   "metadata": {},
   "outputs": [],
   "source": [
    "driver.quit()"
   ]
  },
  {
   "attachments": {},
   "cell_type": "markdown",
   "metadata": {},
   "source": [
    "참고하면 좋은 사이트"
   ]
  },
  {
   "attachments": {},
   "cell_type": "markdown",
   "metadata": {},
   "source": [
    "https://www.selenium.dev/selenium/docs/api/java/org/openqa/selenium/WebElement.html"
   ]
  }
 ],
 "metadata": {
  "kernelspec": {
   "display_name": "Python 3",
   "language": "python",
   "name": "python3"
  },
  "language_info": {
   "codemirror_mode": {
    "name": "ipython",
    "version": 3
   },
   "file_extension": ".py",
   "mimetype": "text/x-python",
   "name": "python",
   "nbconvert_exporter": "python",
   "pygments_lexer": "ipython3",
   "version": "3.10.11"
  },
  "orig_nbformat": 4
 },
 "nbformat": 4,
 "nbformat_minor": 2
}
