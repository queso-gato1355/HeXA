{
 "cells": [
  {
   "cell_type": "code",
   "execution_count": 2,
   "metadata": {},
   "outputs": [],
   "source": [
    "import numpy as np\n",
    "import pandas as pd\n",
    "import os"
   ]
  },
  {
   "cell_type": "code",
   "execution_count": 51,
   "metadata": {},
   "outputs": [],
   "source": [
    "df = pd.read_excel(\"./Fish.xlsx\")"
   ]
  },
  {
   "cell_type": "code",
   "execution_count": 29,
   "metadata": {},
   "outputs": [],
   "source": [
    "import statsmodels.api as sm"
   ]
  },
  {
   "cell_type": "code",
   "execution_count": 16,
   "metadata": {},
   "outputs": [
    {
     "data": {
      "text/plain": [
       "Index(['Row', 'Name', 'Species', 'Species.Eq.1', 'Species.Eq.2',\n",
       "       'Species.Eq.3', 'Species.Eq.4', 'Species.Eq.5', 'Species.Eq.6',\n",
       "       'Species.Eq.7', 'Weight_g', 'Weight_g.Ln', 'Weight_g.Ln.Model.4',\n",
       "       'Weight_g.Ln.Model.4.Exp', 'Weight_g.Ln.Model.4.Resid', 'Length_cm',\n",
       "       'Length_cm.Ln', 'Height_pct', 'Height_pct.Ln', 'Width_pct',\n",
       "       'Width_pct.Ln', 'Unnamed: 21', 'interaction var', 'L*H', 'H*W'],\n",
       "      dtype='object')"
      ]
     },
     "execution_count": 16,
     "metadata": {},
     "output_type": "execute_result"
    }
   ],
   "source": [
    "df.columns"
   ]
  },
  {
   "cell_type": "code",
   "execution_count": 59,
   "metadata": {},
   "outputs": [],
   "source": [
    "dummy = df.iloc[:, [2]]\n",
    "y = df.loc[:, ['Weight_g.Ln']]\n",
    "x = df.loc[:, ['Length_cm.Ln', 'Width_pct.Ln']]"
   ]
  },
  {
   "cell_type": "code",
   "execution_count": 60,
   "metadata": {},
   "outputs": [],
   "source": [
    "y.columns=['weight']\n",
    "x.columns=['length', 'width']\n",
    "dummy.columns=['species']"
   ]
  },
  {
   "cell_type": "code",
   "execution_count": 61,
   "metadata": {},
   "outputs": [],
   "source": [
    "new_df = pd.concat([y, x, dummy], axis=1)"
   ]
  },
  {
   "cell_type": "code",
   "execution_count": 30,
   "metadata": {},
   "outputs": [
    {
     "name": "stdout",
     "output_type": "stream",
     "text": [
      "                                 OLS Regression Results                                \n",
      "=======================================================================================\n",
      "Dep. Variable:            Weight_g.Ln   R-squared (uncentered):                   0.989\n",
      "Model:                            OLS   Adj. R-squared (uncentered):              0.989\n",
      "Method:                 Least Squares   F-statistic:                              7173.\n",
      "Date:                Thu, 11 May 2023   Prob (F-statistic):                   1.75e-153\n",
      "Time:                        10:53:05   Log-Likelihood:                         -136.06\n",
      "No. Observations:                 157   AIC:                                      276.1\n",
      "Df Residuals:                     155   BIC:                                      282.2\n",
      "Df Model:                           2                                                  \n",
      "Covariance Type:            nonrobust                                                  \n",
      "================================================================================\n",
      "                   coef    std err          t      P>|t|      [0.025      0.975]\n",
      "--------------------------------------------------------------------------------\n",
      "Length_cm.Ln     2.5623      0.108     23.761      0.000       2.349       2.775\n",
      "Width_pct.Ln    -1.2084      0.139     -8.722      0.000      -1.482      -0.935\n",
      "==============================================================================\n",
      "Omnibus:                       32.452   Durbin-Watson:                   0.229\n",
      "Prob(Omnibus):                  0.000   Jarque-Bera (JB):               44.859\n",
      "Skew:                          -1.207   Prob(JB):                     1.82e-10\n",
      "Kurtosis:                       4.013   Cond. No.                         16.3\n",
      "==============================================================================\n",
      "\n",
      "Notes:\n",
      "[1] R² is computed without centering (uncentered) since the model does not contain a constant.\n",
      "[2] Standard Errors assume that the covariance matrix of the errors is correctly specified.\n"
     ]
    }
   ],
   "source": [
    "Linear = sm.OLS(y, x)\n",
    "result1 = Linear.fit()\n",
    "print(result1.summary())"
   ]
  },
  {
   "cell_type": "code",
   "execution_count": 63,
   "metadata": {},
   "outputs": [
    {
     "data": {
      "text/html": [
       "<div>\n",
       "<style scoped>\n",
       "    .dataframe tbody tr th:only-of-type {\n",
       "        vertical-align: middle;\n",
       "    }\n",
       "\n",
       "    .dataframe tbody tr th {\n",
       "        vertical-align: top;\n",
       "    }\n",
       "\n",
       "    .dataframe thead th {\n",
       "        text-align: right;\n",
       "    }\n",
       "</style>\n",
       "<table border=\"1\" class=\"dataframe\">\n",
       "  <thead>\n",
       "    <tr style=\"text-align: right;\">\n",
       "      <th></th>\n",
       "      <th>weight</th>\n",
       "      <th>length</th>\n",
       "      <th>width</th>\n",
       "      <th>species</th>\n",
       "    </tr>\n",
       "  </thead>\n",
       "  <tbody>\n",
       "    <tr>\n",
       "      <th>0</th>\n",
       "      <td>5.488938</td>\n",
       "      <td>3.401197</td>\n",
       "      <td>2.595255</td>\n",
       "      <td>1</td>\n",
       "    </tr>\n",
       "    <tr>\n",
       "      <th>1</th>\n",
       "      <td>5.669881</td>\n",
       "      <td>3.440418</td>\n",
       "      <td>2.624669</td>\n",
       "      <td>1</td>\n",
       "    </tr>\n",
       "    <tr>\n",
       "      <th>2</th>\n",
       "      <td>5.828946</td>\n",
       "      <td>3.437208</td>\n",
       "      <td>2.714695</td>\n",
       "      <td>1</td>\n",
       "    </tr>\n",
       "    <tr>\n",
       "      <th>3</th>\n",
       "      <td>5.894403</td>\n",
       "      <td>3.511545</td>\n",
       "      <td>2.587764</td>\n",
       "      <td>1</td>\n",
       "    </tr>\n",
       "    <tr>\n",
       "      <th>4</th>\n",
       "      <td>6.063785</td>\n",
       "      <td>3.526361</td>\n",
       "      <td>2.714695</td>\n",
       "      <td>1</td>\n",
       "    </tr>\n",
       "    <tr>\n",
       "      <th>...</th>\n",
       "      <td>...</td>\n",
       "      <td>...</td>\n",
       "      <td>...</td>\n",
       "      <td>...</td>\n",
       "    </tr>\n",
       "    <tr>\n",
       "      <th>152</th>\n",
       "      <td>7.003065</td>\n",
       "      <td>3.797734</td>\n",
       "      <td>2.734368</td>\n",
       "      <td>7</td>\n",
       "    </tr>\n",
       "    <tr>\n",
       "      <th>153</th>\n",
       "      <td>6.907755</td>\n",
       "      <td>3.811097</td>\n",
       "      <td>2.778819</td>\n",
       "      <td>7</td>\n",
       "    </tr>\n",
       "    <tr>\n",
       "      <th>154</th>\n",
       "      <td>7.003065</td>\n",
       "      <td>3.817712</td>\n",
       "      <td>2.791165</td>\n",
       "      <td>7</td>\n",
       "    </tr>\n",
       "    <tr>\n",
       "      <th>155</th>\n",
       "      <td>6.907755</td>\n",
       "      <td>3.828641</td>\n",
       "      <td>2.873565</td>\n",
       "      <td>7</td>\n",
       "    </tr>\n",
       "    <tr>\n",
       "      <th>156</th>\n",
       "      <td>6.907755</td>\n",
       "      <td>3.841601</td>\n",
       "      <td>2.791165</td>\n",
       "      <td>7</td>\n",
       "    </tr>\n",
       "  </tbody>\n",
       "</table>\n",
       "<p>157 rows × 4 columns</p>\n",
       "</div>"
      ],
      "text/plain": [
       "       weight    length     width  species\n",
       "0    5.488938  3.401197  2.595255        1\n",
       "1    5.669881  3.440418  2.624669        1\n",
       "2    5.828946  3.437208  2.714695        1\n",
       "3    5.894403  3.511545  2.587764        1\n",
       "4    6.063785  3.526361  2.714695        1\n",
       "..        ...       ...       ...      ...\n",
       "152  7.003065  3.797734  2.734368        7\n",
       "153  6.907755  3.811097  2.778819        7\n",
       "154  7.003065  3.817712  2.791165        7\n",
       "155  6.907755  3.828641  2.873565        7\n",
       "156  6.907755  3.841601  2.791165        7\n",
       "\n",
       "[157 rows x 4 columns]"
      ]
     },
     "execution_count": 63,
     "metadata": {},
     "output_type": "execute_result"
    }
   ],
   "source": [
    "new_df"
   ]
  },
  {
   "attachments": {},
   "cell_type": "markdown",
   "metadata": {},
   "source": [
    "interaction 추가"
   ]
  },
  {
   "cell_type": "code",
   "execution_count": 66,
   "metadata": {},
   "outputs": [
    {
     "name": "stdout",
     "output_type": "stream",
     "text": [
      "                            OLS Regression Results                            \n",
      "==============================================================================\n",
      "Dep. Variable:                 weight   R-squared:                       0.988\n",
      "Model:                            OLS   Adj. R-squared:                  0.988\n",
      "Method:                 Least Squares   F-statistic:                     4151.\n",
      "Date:                Thu, 11 May 2023   Prob (F-statistic):          2.67e-146\n",
      "Time:                        11:18:00   Log-Likelihood:                 79.263\n",
      "No. Observations:                 157   AIC:                            -150.5\n",
      "Df Residuals:                     153   BIC:                            -138.3\n",
      "Df Model:                           3                                         \n",
      "Covariance Type:            nonrobust                                         \n",
      "================================================================================\n",
      "                   coef    std err          t      P>|t|      [0.025      0.975]\n",
      "--------------------------------------------------------------------------------\n",
      "Intercept       -9.3790      1.147     -8.178      0.000     -11.645      -7.113\n",
      "length           3.1566      0.339      9.301      0.000       2.486       3.827\n",
      "width            1.7144      0.458      3.745      0.000       0.810       2.619\n",
      "length:width    -0.0396      0.135     -0.293      0.770      -0.306       0.227\n",
      "==============================================================================\n",
      "Omnibus:                        1.313   Durbin-Watson:                   0.887\n",
      "Prob(Omnibus):                  0.519   Jarque-Bera (JB):                0.910\n",
      "Skew:                           0.130   Prob(JB):                        0.634\n",
      "Kurtosis:                       3.268   Cond. No.                     1.09e+03\n",
      "==============================================================================\n",
      "\n",
      "Notes:\n",
      "[1] Standard Errors assume that the covariance matrix of the errors is correctly specified.\n",
      "[2] The condition number is large, 1.09e+03. This might indicate that there are\n",
      "strong multicollinearity or other numerical problems.\n"
     ]
    }
   ],
   "source": [
    "import statsmodels.formula.api as smf\n",
    "Linear = smf.ols(formula='weight ~ length * width', data=new_df)\n",
    "result = Linear.fit()\n",
    "print(result.summary())"
   ]
  },
  {
   "cell_type": "code",
   "execution_count": 65,
   "metadata": {},
   "outputs": [
    {
     "name": "stdout",
     "output_type": "stream",
     "text": [
      "                            OLS Regression Results                            \n",
      "==============================================================================\n",
      "Dep. Variable:                 weight   R-squared:                       0.996\n",
      "Model:                            OLS   Adj. R-squared:                  0.996\n",
      "Method:                 Least Squares   F-statistic:                     4001.\n",
      "Date:                Thu, 11 May 2023   Prob (F-statistic):          6.04e-171\n",
      "Time:                        11:17:53   Log-Likelihood:                 165.10\n",
      "No. Observations:                 157   AIC:                            -310.2\n",
      "Df Residuals:                     147   BIC:                            -279.6\n",
      "Df Model:                           9                                         \n",
      "Covariance Type:            nonrobust                                         \n",
      "===================================================================================\n",
      "                      coef    std err          t      P>|t|      [0.025      0.975]\n",
      "-----------------------------------------------------------------------------------\n",
      "Intercept          -6.2086      1.401     -4.432      0.000      -8.977      -3.440\n",
      "C(species)[T.2]     0.0277      0.041      0.673      0.502      -0.054       0.109\n",
      "C(species)[T.3]    -0.1292      0.029     -4.381      0.000      -0.187      -0.071\n",
      "C(species)[T.4]     0.1609      0.035      4.591      0.000       0.092       0.230\n",
      "C(species)[T.5]    -0.4766      0.068     -6.985      0.000      -0.611      -0.342\n",
      "C(species)[T.6]    -0.4561      0.051     -8.942      0.000      -0.557      -0.355\n",
      "C(species)[T.7]    -0.0577      0.026     -2.212      0.029      -0.109      -0.006\n",
      "length              2.8863      0.417      6.922      0.000       2.062       3.710\n",
      "width               0.5360      0.517      1.038      0.301      -0.485       1.557\n",
      "length:width        0.0684      0.153      0.446      0.656      -0.234       0.371\n",
      "==============================================================================\n",
      "Omnibus:                        7.332   Durbin-Watson:                   1.839\n",
      "Prob(Omnibus):                  0.026   Jarque-Bera (JB):                8.864\n",
      "Skew:                           0.316   Prob(JB):                       0.0119\n",
      "Kurtosis:                       3.977   Cond. No.                     2.23e+03\n",
      "==============================================================================\n",
      "\n",
      "Notes:\n",
      "[1] Standard Errors assume that the covariance matrix of the errors is correctly specified.\n",
      "[2] The condition number is large, 2.23e+03. This might indicate that there are\n",
      "strong multicollinearity or other numerical problems.\n"
     ]
    }
   ],
   "source": [
    "Linear = smf.ols(formula='weight ~ length * width + C(species)', data=new_df)\n",
    "result = Linear.fit()\n",
    "print(result.summary())"
   ]
  },
  {
   "attachments": {},
   "cell_type": "markdown",
   "metadata": {},
   "source": [
    "https://www.statsmodels.org/dev/example_formulas.html"
   ]
  },
  {
   "attachments": {},
   "cell_type": "markdown",
   "metadata": {},
   "source": [
    "14.5\n",
    "\n",
    "a. just look at the result of the code\n",
    "\n",
    "b. below"
   ]
  },
  {
   "cell_type": "code",
   "execution_count": 72,
   "metadata": {},
   "outputs": [],
   "source": [
    "inner = np.array([[3.7, 3.9, 2]])"
   ]
  },
  {
   "cell_type": "code",
   "execution_count": 75,
   "metadata": {},
   "outputs": [
    {
     "data": {
      "text/plain": [
       "array([4.76783128])"
      ]
     },
     "execution_count": 75,
     "metadata": {},
     "output_type": "execute_result"
    }
   ],
   "source": [
    "result1.predict([3.7, 3.9])"
   ]
  },
  {
   "cell_type": "code",
   "execution_count": 84,
   "metadata": {},
   "outputs": [],
   "source": [
    "inp = pd.DataFrame([[3.7, 3.9, 1]])\n"
   ]
  },
  {
   "cell_type": "code",
   "execution_count": 85,
   "metadata": {},
   "outputs": [
    {
     "data": {
      "text/html": [
       "<div>\n",
       "<style scoped>\n",
       "    .dataframe tbody tr th:only-of-type {\n",
       "        vertical-align: middle;\n",
       "    }\n",
       "\n",
       "    .dataframe tbody tr th {\n",
       "        vertical-align: top;\n",
       "    }\n",
       "\n",
       "    .dataframe thead th {\n",
       "        text-align: right;\n",
       "    }\n",
       "</style>\n",
       "<table border=\"1\" class=\"dataframe\">\n",
       "  <thead>\n",
       "    <tr style=\"text-align: right;\">\n",
       "      <th></th>\n",
       "      <th>0</th>\n",
       "      <th>1</th>\n",
       "      <th>2</th>\n",
       "    </tr>\n",
       "  </thead>\n",
       "  <tbody>\n",
       "    <tr>\n",
       "      <th>0</th>\n",
       "      <td>3.7</td>\n",
       "      <td>3.9</td>\n",
       "      <td>1</td>\n",
       "    </tr>\n",
       "  </tbody>\n",
       "</table>\n",
       "</div>"
      ],
      "text/plain": [
       "     0    1  2\n",
       "0  3.7  3.9  1"
      ]
     },
     "execution_count": 85,
     "metadata": {},
     "output_type": "execute_result"
    }
   ],
   "source": [
    "inp"
   ]
  },
  {
   "cell_type": "code",
   "execution_count": 86,
   "metadata": {},
   "outputs": [],
   "source": [
    "inp.columns = ['length', 'width', 'species']"
   ]
  },
  {
   "cell_type": "code",
   "execution_count": 87,
   "metadata": {},
   "outputs": [
    {
     "data": {
      "text/plain": [
       "0    8.415816\n",
       "dtype: float64"
      ]
     },
     "execution_count": 87,
     "metadata": {},
     "output_type": "execute_result"
    }
   ],
   "source": [
    "result.predict(inp)"
   ]
  },
  {
   "attachments": {},
   "cell_type": "markdown",
   "metadata": {},
   "source": [
    "Interpret"
   ]
  },
  {
   "cell_type": "code",
   "execution_count": 88,
   "metadata": {},
   "outputs": [
    {
     "data": {
      "text/html": [
       "<table class=\"simpletable\">\n",
       "<caption>OLS Regression Results</caption>\n",
       "<tr>\n",
       "  <th>Dep. Variable:</th>         <td>weight</td>      <th>  R-squared:         </th> <td>   0.988</td> \n",
       "</tr>\n",
       "<tr>\n",
       "  <th>Model:</th>                   <td>OLS</td>       <th>  Adj. R-squared:    </th> <td>   0.988</td> \n",
       "</tr>\n",
       "<tr>\n",
       "  <th>Method:</th>             <td>Least Squares</td>  <th>  F-statistic:       </th> <td>   4151.</td> \n",
       "</tr>\n",
       "<tr>\n",
       "  <th>Date:</th>             <td>Thu, 11 May 2023</td> <th>  Prob (F-statistic):</th> <td>2.67e-146</td>\n",
       "</tr>\n",
       "<tr>\n",
       "  <th>Time:</th>                 <td>11:33:25</td>     <th>  Log-Likelihood:    </th> <td>  79.263</td> \n",
       "</tr>\n",
       "<tr>\n",
       "  <th>No. Observations:</th>      <td>   157</td>      <th>  AIC:               </th> <td>  -150.5</td> \n",
       "</tr>\n",
       "<tr>\n",
       "  <th>Df Residuals:</th>          <td>   153</td>      <th>  BIC:               </th> <td>  -138.3</td> \n",
       "</tr>\n",
       "<tr>\n",
       "  <th>Df Model:</th>              <td>     3</td>      <th>                     </th>     <td> </td>    \n",
       "</tr>\n",
       "<tr>\n",
       "  <th>Covariance Type:</th>      <td>nonrobust</td>    <th>                     </th>     <td> </td>    \n",
       "</tr>\n",
       "</table>\n",
       "<table class=\"simpletable\">\n",
       "<tr>\n",
       "        <td></td>          <th>coef</th>     <th>std err</th>      <th>t</th>      <th>P>|t|</th>  <th>[0.025</th>    <th>0.975]</th>  \n",
       "</tr>\n",
       "<tr>\n",
       "  <th>Intercept</th>    <td>   -9.3790</td> <td>    1.147</td> <td>   -8.178</td> <td> 0.000</td> <td>  -11.645</td> <td>   -7.113</td>\n",
       "</tr>\n",
       "<tr>\n",
       "  <th>length</th>       <td>    3.1566</td> <td>    0.339</td> <td>    9.301</td> <td> 0.000</td> <td>    2.486</td> <td>    3.827</td>\n",
       "</tr>\n",
       "<tr>\n",
       "  <th>width</th>        <td>    1.7144</td> <td>    0.458</td> <td>    3.745</td> <td> 0.000</td> <td>    0.810</td> <td>    2.619</td>\n",
       "</tr>\n",
       "<tr>\n",
       "  <th>length:width</th> <td>   -0.0396</td> <td>    0.135</td> <td>   -0.293</td> <td> 0.770</td> <td>   -0.306</td> <td>    0.227</td>\n",
       "</tr>\n",
       "</table>\n",
       "<table class=\"simpletable\">\n",
       "<tr>\n",
       "  <th>Omnibus:</th>       <td> 1.313</td> <th>  Durbin-Watson:     </th> <td>   0.887</td>\n",
       "</tr>\n",
       "<tr>\n",
       "  <th>Prob(Omnibus):</th> <td> 0.519</td> <th>  Jarque-Bera (JB):  </th> <td>   0.910</td>\n",
       "</tr>\n",
       "<tr>\n",
       "  <th>Skew:</th>          <td> 0.130</td> <th>  Prob(JB):          </th> <td>   0.634</td>\n",
       "</tr>\n",
       "<tr>\n",
       "  <th>Kurtosis:</th>      <td> 3.268</td> <th>  Cond. No.          </th> <td>1.09e+03</td>\n",
       "</tr>\n",
       "</table><br/><br/>Notes:<br/>[1] Standard Errors assume that the covariance matrix of the errors is correctly specified.<br/>[2] The condition number is large, 1.09e+03. This might indicate that there are<br/>strong multicollinearity or other numerical problems."
      ],
      "text/plain": [
       "<class 'statsmodels.iolib.summary.Summary'>\n",
       "\"\"\"\n",
       "                            OLS Regression Results                            \n",
       "==============================================================================\n",
       "Dep. Variable:                 weight   R-squared:                       0.988\n",
       "Model:                            OLS   Adj. R-squared:                  0.988\n",
       "Method:                 Least Squares   F-statistic:                     4151.\n",
       "Date:                Thu, 11 May 2023   Prob (F-statistic):          2.67e-146\n",
       "Time:                        11:33:25   Log-Likelihood:                 79.263\n",
       "No. Observations:                 157   AIC:                            -150.5\n",
       "Df Residuals:                     153   BIC:                            -138.3\n",
       "Df Model:                           3                                         \n",
       "Covariance Type:            nonrobust                                         \n",
       "================================================================================\n",
       "                   coef    std err          t      P>|t|      [0.025      0.975]\n",
       "--------------------------------------------------------------------------------\n",
       "Intercept       -9.3790      1.147     -8.178      0.000     -11.645      -7.113\n",
       "length           3.1566      0.339      9.301      0.000       2.486       3.827\n",
       "width            1.7144      0.458      3.745      0.000       0.810       2.619\n",
       "length:width    -0.0396      0.135     -0.293      0.770      -0.306       0.227\n",
       "==============================================================================\n",
       "Omnibus:                        1.313   Durbin-Watson:                   0.887\n",
       "Prob(Omnibus):                  0.519   Jarque-Bera (JB):                0.910\n",
       "Skew:                           0.130   Prob(JB):                        0.634\n",
       "Kurtosis:                       3.268   Cond. No.                     1.09e+03\n",
       "==============================================================================\n",
       "\n",
       "Notes:\n",
       "[1] Standard Errors assume that the covariance matrix of the errors is correctly specified.\n",
       "[2] The condition number is large, 1.09e+03. This might indicate that there are\n",
       "strong multicollinearity or other numerical problems.\n",
       "\"\"\""
      ]
     },
     "execution_count": 88,
     "metadata": {},
     "output_type": "execute_result"
    }
   ],
   "source": [
    "result.summary()"
   ]
  },
  {
   "attachments": {},
   "cell_type": "markdown",
   "metadata": {},
   "source": [
    "r2_score = 0.988, adjusted r2_score=0.988"
   ]
  }
 ],
 "metadata": {
  "kernelspec": {
   "display_name": "Python 3",
   "language": "python",
   "name": "python3"
  },
  "language_info": {
   "codemirror_mode": {
    "name": "ipython",
    "version": 3
   },
   "file_extension": ".py",
   "mimetype": "text/x-python",
   "name": "python",
   "nbconvert_exporter": "python",
   "pygments_lexer": "ipython3",
   "version": "3.10.8"
  },
  "orig_nbformat": 4
 },
 "nbformat": 4,
 "nbformat_minor": 2
}
